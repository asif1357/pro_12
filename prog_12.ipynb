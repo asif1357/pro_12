{
 "cells": [
  {
   "cell_type": "markdown",
   "id": "f88faae6",
   "metadata": {},
   "source": [
    "# Prog_assign_12"
   ]
  },
  {
   "cell_type": "code",
   "execution_count": 3,
   "id": "de3d316d",
   "metadata": {},
   "outputs": [
    {
     "name": "stdout",
     "output_type": "stream",
     "text": [
      "The dictionary is : \n",
      "{'a': [21, 11, 15, 3, 8, 0, 99], 'there': [11, 10, 32, 22, 51, 63, 77, 35.9], 'how': [7, 0, 22], 'are': [2, 12, 11, 45, 4], 'you': [4, 56, 31, 89, 90, 2]}\n",
      "The unique values are : \n",
      "[0, 2, 3, 4, 7, 8, 10, 11, 12, 15, 21, 22, 31, 32, 35.9, 45, 51, 56, 63, 77, 89, 90, 99]\n"
     ]
    }
   ],
   "source": [
    "# 1.prog for unique elements in dict values\n",
    "mydict = {'a' : [21,11,15,3,8, 0,99],\n",
    "   'there' : [11,10,32,22, 51, 63, 77,35.9],\n",
    "   'how' : [7, 0, 22],\n",
    "   'are' : [2,12, 11, 45,4],\n",
    "   'you' : [4,56, 31, 89, 90,2]}\n",
    "\n",
    "print(\"The dictionary is : \")\n",
    "print(mydict)\n",
    "\n",
    "result = list(sorted({elem for val in mydict.values() for elem in val}))\n",
    "\n",
    "print(\"The unique values are : \")\n",
    "print(result)"
   ]
  },
  {
   "cell_type": "code",
   "execution_count": 6,
   "id": "6b3ee71c",
   "metadata": {},
   "outputs": [
    {
     "name": "stdout",
     "output_type": "stream",
     "text": [
      "Sum : 110\n"
     ]
    }
   ],
   "source": [
    "# 2. prog to find sum of all items of dict\n",
    "def returnSum(myDict):\n",
    " \n",
    "    l = []\n",
    "    for i in myDict:\n",
    "        l.append(myDict[i])\n",
    "    final = sum(l)\n",
    " \n",
    "    return final\n",
    "\n",
    "dict = {'a': 15, 'b': 50, 'c': 45}\n",
    "print(\"Sum :\", returnSum(dict))"
   ]
  },
  {
   "cell_type": "code",
   "execution_count": 9,
   "id": "0b34d06b",
   "metadata": {},
   "outputs": [
    {
     "name": "stdout",
     "output_type": "stream",
     "text": [
      "{'a': 3, 'b': 6, 'c': 10, 'x': 20, 'y': 45, 'z': 30}\n"
     ]
    }
   ],
   "source": [
    "#3. prog to merge two dictionaries\n",
    "\n",
    "dict1={'a':3,'b':6,'c':10}\n",
    "dict2={'x':20,'y':45,'z':30}\n",
    "dict1.update(dict2)\n",
    "print(dict1)"
   ]
  },
  {
   "cell_type": "code",
   "execution_count": 29,
   "id": "eea2633d",
   "metadata": {},
   "outputs": [],
   "source": [
    "#4. prog to convert list to dict\n",
    "from itertools import product\n",
    "dic={'month':[1,2,3],'name':['jan','feb','mar']}\n",
    "r= dict(zip(dic['month'], dic['name']))"
   ]
  },
  {
   "cell_type": "code",
   "execution_count": 25,
   "id": "d1382189",
   "metadata": {},
   "outputs": [
    {
     "data": {
      "text/plain": [
       "{'month': [1, 2, 3], 'name': ['jan', 'feb', 'mar']}"
      ]
     },
     "execution_count": 25,
     "metadata": {},
     "output_type": "execute_result"
    }
   ],
   "source": [
    "dic"
   ]
  },
  {
   "cell_type": "code",
   "execution_count": 30,
   "id": "80599789",
   "metadata": {},
   "outputs": [
    {
     "name": "stdout",
     "output_type": "stream",
     "text": [
      "Original dictionary :  OrderedDict([('javascript', '4'), ('python', '12')])\n",
      "Enter the key-value pair to be added in the OrderedDict\n",
      "key : r\n",
      "value : 6\n",
      "Resultant Dictionary : OrderedDict([('r', '6'), ('javascript', '4'), ('python', '12')])\n"
     ]
    }
   ],
   "source": [
    "#5. prog to add element at start of dict\n",
    "\n",
    "from collections import OrderedDict\n",
    "\n",
    "\n",
    "myDict = OrderedDict([('javascript', '4'), ('python', '12')])\n",
    "print(\"Original dictionary : \", str(myDict))\n",
    "\n",
    "print(\"Enter the key-value pair to be added in the OrderedDict\")\n",
    "key = input(\"key : \")\n",
    "value = input(\"value : \")\n",
    "addedDict = OrderedDict([(key, value)])\n",
    "\n",
    " \n",
    "myDict.update({key:value})\n",
    "myDict.move_to_end(key, last = False)\n",
    "\n",
    "\n",
    "print (\"Resultant Dictionary : \"+str(myDict))\n"
   ]
  },
  {
   "cell_type": "code",
   "execution_count": 33,
   "id": "788f6b3a",
   "metadata": {},
   "outputs": [
    {
     "name": "stdout",
     "output_type": "stream",
     "text": [
      "OrderedDict([('rajnish', '9'), ('ravi', '10'), ('sanjeev', '15'), ('suraj', '32'), ('yash', '2')])\n"
     ]
    }
   ],
   "source": [
    "# 6. prog to sort\n",
    "from collections import OrderedDict\n",
    "\n",
    "dict = {'ravi': '10', 'rajnish': '9','sanjeev': '15', 'yash': '2', 'suraj': '32'}\n",
    "dict1 = OrderedDict(sorted(dict.items()))\n",
    "print(dict1)\n"
   ]
  },
  {
   "cell_type": "code",
   "execution_count": null,
   "id": "ffcfe730",
   "metadata": {},
   "outputs": [],
   "source": []
  }
 ],
 "metadata": {
  "kernelspec": {
   "display_name": "Python 3 (ipykernel)",
   "language": "python",
   "name": "python3"
  },
  "language_info": {
   "codemirror_mode": {
    "name": "ipython",
    "version": 3
   },
   "file_extension": ".py",
   "mimetype": "text/x-python",
   "name": "python",
   "nbconvert_exporter": "python",
   "pygments_lexer": "ipython3",
   "version": "3.9.12"
  }
 },
 "nbformat": 4,
 "nbformat_minor": 5
}
